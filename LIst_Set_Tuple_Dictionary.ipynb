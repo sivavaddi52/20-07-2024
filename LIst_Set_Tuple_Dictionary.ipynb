{
  "nbformat": 4,
  "nbformat_minor": 0,
  "metadata": {
    "colab": {
      "provenance": [],
      "authorship_tag": "ABX9TyOSAj4jwylAdryDLoOMlM28",
      "include_colab_link": true
    },
    "kernelspec": {
      "name": "python3",
      "display_name": "Python 3"
    },
    "language_info": {
      "name": "python"
    }
  },
  "cells": [
    {
      "cell_type": "markdown",
      "metadata": {
        "id": "view-in-github",
        "colab_type": "text"
      },
      "source": [
        "<a href=\"https://colab.research.google.com/github/sivavaddi52/20-07-2024/blob/Main/LIst_Set_Tuple_Dictionary.ipynb\" target=\"_parent\"><img src=\"https://colab.research.google.com/assets/colab-badge.svg\" alt=\"Open In Colab\"/></a>"
      ]
    },
    {
      "cell_type": "code",
      "execution_count": null,
      "metadata": {
        "colab": {
          "base_uri": "https://localhost:8080/"
        },
        "id": "-nJXQbWABbAh",
        "outputId": "16bf48e4-7b50-42d7-95be-a2ca43dacc7f"
      },
      "outputs": [
        {
          "output_type": "stream",
          "name": "stdout",
          "text": [
            "2.0 3.0\n"
          ]
        }
      ],
      "source": [
        "num2 = 2+3j\n",
        "print(num2.real, num2.imag)"
      ]
    },
    {
      "cell_type": "code",
      "source": [
        "print(abs(-5.5))"
      ],
      "metadata": {
        "colab": {
          "base_uri": "https://localhost:8080/"
        },
        "id": "IkJHCe61BxfA",
        "outputId": "7bff739b-6877-4c0f-af1c-c75db27f7903"
      },
      "execution_count": null,
      "outputs": [
        {
          "output_type": "stream",
          "name": "stdout",
          "text": [
            "5.5\n"
          ]
        }
      ]
    },
    {
      "cell_type": "code",
      "source": [
        "print(round(5.49))"
      ],
      "metadata": {
        "colab": {
          "base_uri": "https://localhost:8080/"
        },
        "id": "3VMZdKTuCuVq",
        "outputId": "f2edd64a-484c-43f0-f11d-a394f1335d16"
      },
      "execution_count": null,
      "outputs": [
        {
          "output_type": "stream",
          "name": "stdout",
          "text": [
            "5\n"
          ]
        }
      ]
    },
    {
      "cell_type": "code",
      "source": [
        "print(round(5.49,1))"
      ],
      "metadata": {
        "colab": {
          "base_uri": "https://localhost:8080/"
        },
        "id": "OaSpk0oXCybT",
        "outputId": "0882f675-7d33-4663-bfcb-41915dcb7860"
      },
      "execution_count": null,
      "outputs": [
        {
          "output_type": "stream",
          "name": "stdout",
          "text": [
            "5.5\n"
          ]
        }
      ]
    },
    {
      "cell_type": "code",
      "source": [
        "from enum import Enum\n",
        "class State(Enum):\n",
        "  INACTIVE =0\n",
        "  ACTIVE = 1\n",
        "print(State.ACTIVE.value)\n",
        "print(State(1))\n",
        "print(State['ACTIVE'].value)\n",
        "print(list(State))\n",
        "print(len(State))"
      ],
      "metadata": {
        "colab": {
          "base_uri": "https://localhost:8080/"
        },
        "id": "ojEZyNjSC3OK",
        "outputId": "5cdcc6d2-33c4-4046-ea89-1896df5eb3e3"
      },
      "execution_count": null,
      "outputs": [
        {
          "output_type": "stream",
          "name": "stdout",
          "text": [
            "1\n",
            "State.ACTIVE\n",
            "1\n",
            "[<State.INACTIVE: 0>, <State.ACTIVE: 1>]\n",
            "2\n"
          ]
        }
      ]
    },
    {
      "cell_type": "code",
      "source": [
        "age = input(\"What is your age?\")\n",
        "print(\"Your age is\" + \" \" +age)"
      ],
      "metadata": {
        "colab": {
          "base_uri": "https://localhost:8080/"
        },
        "id": "NGMW0u9NDNrg",
        "outputId": "d803bbd6-d1e3-42a8-ec97-6e52b107f3ee"
      },
      "execution_count": null,
      "outputs": [
        {
          "output_type": "stream",
          "name": "stdout",
          "text": [
            "What is your age?15\n",
            "Your age is 15\n"
          ]
        }
      ]
    },
    {
      "cell_type": "code",
      "source": [
        "dogs = ['Roger',1,True,'asdf']\n",
        "print(\"asdf\" in dogs)\n",
        "print(dogs[0])\n",
        "print(dogs[2:3])"
      ],
      "metadata": {
        "colab": {
          "base_uri": "https://localhost:8080/"
        },
        "id": "pvv10M_hFG7I",
        "outputId": "c2efadb5-7f65-432d-b56c-3a3a5cea96b9"
      },
      "execution_count": 2,
      "outputs": [
        {
          "output_type": "stream",
          "name": "stdout",
          "text": [
            "True\n",
            "Roger\n",
            "[True]\n"
          ]
        }
      ]
    },
    {
      "cell_type": "code",
      "source": [
        "dogs[2]=\"Siva\"\n",
        "print(dogs)\n"
      ],
      "metadata": {
        "id": "mHghsoA0ELip",
        "colab": {
          "base_uri": "https://localhost:8080/"
        },
        "outputId": "12656c69-42d9-4eb1-bab1-85c83fd672bb"
      },
      "execution_count": 9,
      "outputs": [
        {
          "output_type": "stream",
          "name": "stdout",
          "text": [
            "['Roger', 1, 'Siva', 'asdf', 'sai', 'sai', 'sai', 'kumar', 3]\n"
          ]
        }
      ]
    },
    {
      "cell_type": "code",
      "source": [
        "dog=[1,'siva','sai']\n",
        "dog.append('kumar')\n",
        "print(dog)"
      ],
      "metadata": {
        "colab": {
          "base_uri": "https://localhost:8080/"
        },
        "id": "84Gh8EN1U4IP",
        "outputId": "826b9881-6437-4b59-caf3-bea4f0359798"
      },
      "execution_count": 10,
      "outputs": [
        {
          "output_type": "stream",
          "name": "stdout",
          "text": [
            "[1, 'siva', 'sai', 'kumar']\n"
          ]
        }
      ]
    },
    {
      "cell_type": "code",
      "source": [
        "sai=['thaswanth','pawan','aravind']\n",
        "sai.extend('siva')\n",
        "print(sai)"
      ],
      "metadata": {
        "colab": {
          "base_uri": "https://localhost:8080/"
        },
        "id": "R7r8BL-_VEsd",
        "outputId": "7a8b649a-9674-4c99-e32c-e7e75557d684"
      },
      "execution_count": 12,
      "outputs": [
        {
          "output_type": "stream",
          "name": "stdout",
          "text": [
            "['thaswanth', 'pawan', 'aravind', 's', 'i', 'v', 'a']\n"
          ]
        }
      ]
    },
    {
      "cell_type": "code",
      "source": [
        "sai=['siva','naveen','kumar']\n",
        "sai +=['thaswanth']\n",
        "print(sai)"
      ],
      "metadata": {
        "colab": {
          "base_uri": "https://localhost:8080/"
        },
        "id": "s-Mx64CLWK44",
        "outputId": "73b29931-3b3e-42af-c609-ff30f57f028d"
      },
      "execution_count": 13,
      "outputs": [
        {
          "output_type": "stream",
          "name": "stdout",
          "text": [
            "['siva', 'naveen', 'kumar', 'thaswanth']\n"
          ]
        }
      ]
    },
    {
      "cell_type": "code",
      "source": [
        "sai.remove('siva')\n",
        "print(sai)"
      ],
      "metadata": {
        "colab": {
          "base_uri": "https://localhost:8080/"
        },
        "id": "gmpDQc-eWlUi",
        "outputId": "e7b6101a-b960-4e08-858c-d9d8a9470fd5"
      },
      "execution_count": 14,
      "outputs": [
        {
          "output_type": "stream",
          "name": "stdout",
          "text": [
            "['naveen', 'kumar', 'thaswanth']\n"
          ]
        }
      ]
    },
    {
      "cell_type": "code",
      "source": [
        "sai.pop()\n",
        "print(sai)"
      ],
      "metadata": {
        "colab": {
          "base_uri": "https://localhost:8080/"
        },
        "id": "tcYhY3S0W0Ef",
        "outputId": "76e45e28-2e40-4186-cd17-80d9127bf3b8"
      },
      "execution_count": 15,
      "outputs": [
        {
          "output_type": "stream",
          "name": "stdout",
          "text": [
            "['naveen', 'kumar']\n"
          ]
        }
      ]
    },
    {
      "cell_type": "code",
      "source": [
        "sai.pop()\n",
        "print(sai)"
      ],
      "metadata": {
        "colab": {
          "base_uri": "https://localhost:8080/"
        },
        "id": "ds1aAU7rW7tM",
        "outputId": "92c90d48-a167-4298-f0f0-9571feee0a4d"
      },
      "execution_count": 19,
      "outputs": [
        {
          "output_type": "stream",
          "name": "stdout",
          "text": [
            "['naveen']\n"
          ]
        }
      ]
    },
    {
      "cell_type": "code",
      "source": [
        "items=['Roger',1,\"syd\",True]\n",
        "items.insert(2,\"Test\")\n",
        "print(items)"
      ],
      "metadata": {
        "colab": {
          "base_uri": "https://localhost:8080/"
        },
        "id": "6zVffmDyXM_D",
        "outputId": "12d6808f-5c4f-4e50-c15a-71309ecade45"
      },
      "execution_count": 20,
      "outputs": [
        {
          "output_type": "stream",
          "name": "stdout",
          "text": [
            "['Roger', 1, 'Test', 'syd', True]\n"
          ]
        }
      ]
    },
    {
      "cell_type": "code",
      "source": [
        "items[1:1]=['Test1','Test2']\n",
        "print(items)"
      ],
      "metadata": {
        "colab": {
          "base_uri": "https://localhost:8080/"
        },
        "id": "EwK01qclXhdA",
        "outputId": "a1cfd8fd-1976-45cd-8369-2507c17e09ae"
      },
      "execution_count": 21,
      "outputs": [
        {
          "output_type": "stream",
          "name": "stdout",
          "text": [
            "['Roger', 'Test1', 'Test2', 1, 'Test', 'syd', True]\n"
          ]
        }
      ]
    },
    {
      "cell_type": "code",
      "source": [
        "items.sort()\n",
        "print(items)"
      ],
      "metadata": {
        "colab": {
          "base_uri": "https://localhost:8080/",
          "height": 166
        },
        "id": "Ksj6f1p8X3R2",
        "outputId": "33822e62-d827-4d5c-e055-1cfac233307b"
      },
      "execution_count": 22,
      "outputs": [
        {
          "output_type": "error",
          "ename": "TypeError",
          "evalue": "'<' not supported between instances of 'int' and 'str'",
          "traceback": [
            "\u001b[0;31m---------------------------------------------------------------------------\u001b[0m",
            "\u001b[0;31mTypeError\u001b[0m                                 Traceback (most recent call last)",
            "\u001b[0;32m<ipython-input-22-1d60e571567d>\u001b[0m in \u001b[0;36m<cell line: 1>\u001b[0;34m()\u001b[0m\n\u001b[0;32m----> 1\u001b[0;31m \u001b[0mitems\u001b[0m\u001b[0;34m.\u001b[0m\u001b[0msort\u001b[0m\u001b[0;34m(\u001b[0m\u001b[0;34m)\u001b[0m\u001b[0;34m\u001b[0m\u001b[0;34m\u001b[0m\u001b[0m\n\u001b[0m\u001b[1;32m      2\u001b[0m \u001b[0mprint\u001b[0m\u001b[0;34m(\u001b[0m\u001b[0mitems\u001b[0m\u001b[0;34m)\u001b[0m\u001b[0;34m\u001b[0m\u001b[0;34m\u001b[0m\u001b[0m\n",
            "\u001b[0;31mTypeError\u001b[0m: '<' not supported between instances of 'int' and 'str'"
          ]
        }
      ]
    },
    {
      "cell_type": "code",
      "source": [
        "tha =['siva','sai','kumar']\n",
        "tha.sort()\n",
        "print(tha)"
      ],
      "metadata": {
        "colab": {
          "base_uri": "https://localhost:8080/"
        },
        "id": "MtwzYcB3YAoz",
        "outputId": "b8375786-01eb-43f3-82d7-fd8abccbac85"
      },
      "execution_count": 23,
      "outputs": [
        {
          "output_type": "stream",
          "name": "stdout",
          "text": [
            "['kumar', 'sai', 'siva']\n"
          ]
        }
      ]
    },
    {
      "cell_type": "code",
      "source": [
        "from google.colab import drive\n",
        "drive.mount('/content/drive')"
      ],
      "metadata": {
        "id": "TkknMqII-Qb6"
      },
      "execution_count": null,
      "outputs": []
    },
    {
      "cell_type": "markdown",
      "source": [
        "# New Section"
      ],
      "metadata": {
        "id": "Fr08y6XG-WRj"
      }
    },
    {
      "cell_type": "code",
      "source": [
        "tha.sort(key=str.lower)\n",
        "print(tha)"
      ],
      "metadata": {
        "colab": {
          "base_uri": "https://localhost:8080/"
        },
        "id": "8CfebuNDYMMz",
        "outputId": "bfdfe4f7-7d7a-4995-a5dc-21d17a660888"
      },
      "execution_count": 27,
      "outputs": [
        {
          "output_type": "stream",
          "name": "stdout",
          "text": [
            "['kumar', 'sai', 'siva']\n"
          ]
        }
      ]
    },
    {
      "cell_type": "code",
      "source": [
        "print(tha)"
      ],
      "metadata": {
        "colab": {
          "base_uri": "https://localhost:8080/"
        },
        "id": "p_64g2E9YYB2",
        "outputId": "7d2cef3b-fab6-4f74-82b5-99d67836ca78"
      },
      "execution_count": 28,
      "outputs": [
        {
          "output_type": "stream",
          "name": "stdout",
          "text": [
            "['kumar', 'sai', 'siva']\n"
          ]
        }
      ]
    },
    {
      "cell_type": "code",
      "source": [
        "tha.sort(key=str.upper)\n",
        "print(tha)"
      ],
      "metadata": {
        "colab": {
          "base_uri": "https://localhost:8080/"
        },
        "id": "6rI2EsMiYuwb",
        "outputId": "0878b28c-c60d-4815-f73c-6311c90df913"
      },
      "execution_count": 29,
      "outputs": [
        {
          "output_type": "stream",
          "name": "stdout",
          "text": [
            "['kumar', 'sai', 'siva']\n"
          ]
        }
      ]
    },
    {
      "cell_type": "code",
      "source": [
        "sorted(tha, key=str.lower)\n",
        "print(tha)"
      ],
      "metadata": {
        "colab": {
          "base_uri": "https://localhost:8080/"
        },
        "id": "DgfJV36sZA_s",
        "outputId": "88d533cd-d415-4211-f784-2a3e9c6e9c60"
      },
      "execution_count": 30,
      "outputs": [
        {
          "output_type": "stream",
          "name": "stdout",
          "text": [
            "['kumar', 'sai', 'siva']\n"
          ]
        }
      ]
    },
    {
      "cell_type": "code",
      "source": [
        "#Tuples- You can created then do not modified\n",
        "names=('Roger','Syd')\n",
        "print(names[0])\n"
      ],
      "metadata": {
        "colab": {
          "base_uri": "https://localhost:8080/"
        },
        "id": "3GfLnSuuZmLf",
        "outputId": "e669fe63-60ee-4a94-f3f1-e7c32b3a9b2e"
      },
      "execution_count": 31,
      "outputs": [
        {
          "output_type": "stream",
          "name": "stdout",
          "text": [
            "Roger\n"
          ]
        }
      ]
    },
    {
      "cell_type": "code",
      "source": [
        "print(names.index('Roger'))"
      ],
      "metadata": {
        "colab": {
          "base_uri": "https://localhost:8080/"
        },
        "id": "6Wk5ngshZ6pL",
        "outputId": "76fa7fa2-1a17-4476-9586-da80e697f5d1"
      },
      "execution_count": 32,
      "outputs": [
        {
          "output_type": "stream",
          "name": "stdout",
          "text": [
            "0\n"
          ]
        }
      ]
    },
    {
      "cell_type": "code",
      "source": [
        "print(len(names))"
      ],
      "metadata": {
        "colab": {
          "base_uri": "https://localhost:8080/"
        },
        "id": "otbp4kcnaEi-",
        "outputId": "bf7e7260-d4f8-4478-b55d-9e766105b5b7"
      },
      "execution_count": 33,
      "outputs": [
        {
          "output_type": "stream",
          "name": "stdout",
          "text": [
            "2\n"
          ]
        }
      ]
    },
    {
      "cell_type": "code",
      "source": [
        "print('Roger' in names)"
      ],
      "metadata": {
        "colab": {
          "base_uri": "https://localhost:8080/"
        },
        "id": "9vDJ9NHIaLPz",
        "outputId": "9cc0cfbd-89b4-473c-cdd1-6af053679889"
      },
      "execution_count": 34,
      "outputs": [
        {
          "output_type": "stream",
          "name": "stdout",
          "text": [
            "True\n"
          ]
        }
      ]
    },
    {
      "cell_type": "code",
      "source": [
        "print(names[0:2])"
      ],
      "metadata": {
        "colab": {
          "base_uri": "https://localhost:8080/"
        },
        "id": "tw5RbCEjaTAr",
        "outputId": "7c569b7e-3b4f-4a7c-8f66-815756f061ea"
      },
      "execution_count": 35,
      "outputs": [
        {
          "output_type": "stream",
          "name": "stdout",
          "text": [
            "('Roger', 'Syd')\n"
          ]
        }
      ]
    },
    {
      "cell_type": "code",
      "source": [
        "newtuple = names + ('Tina','aravind')\n",
        "print(newtuple)"
      ],
      "metadata": {
        "colab": {
          "base_uri": "https://localhost:8080/"
        },
        "id": "iHumba79acTU",
        "outputId": "5a74f8dd-b852-4266-aafe-55dc87788419"
      },
      "execution_count": 37,
      "outputs": [
        {
          "output_type": "stream",
          "name": "stdout",
          "text": [
            "('Roger', 'Syd', 'Tina', 'aravind')\n"
          ]
        }
      ]
    },
    {
      "cell_type": "code",
      "source": [
        "#Dictionaries\n",
        "dog = {'name':'Roger','age':8}\n",
        "print(dog['name'])"
      ],
      "metadata": {
        "colab": {
          "base_uri": "https://localhost:8080/"
        },
        "id": "ir2XKmpkatse",
        "outputId": "dca8976e-2bff-461d-88d2-2a21ef740d49"
      },
      "execution_count": 38,
      "outputs": [
        {
          "output_type": "stream",
          "name": "stdout",
          "text": [
            "Roger\n"
          ]
        }
      ]
    },
    {
      "cell_type": "code",
      "source": [
        "dog['name']='Siva'\n",
        "print(dog)"
      ],
      "metadata": {
        "colab": {
          "base_uri": "https://localhost:8080/"
        },
        "id": "7-zcAC1SbL7Q",
        "outputId": "5f09cedc-51e2-4d02-93ed-00983c8371cc"
      },
      "execution_count": 39,
      "outputs": [
        {
          "output_type": "stream",
          "name": "stdout",
          "text": [
            "{'name': 'Siva', 'age': 8}\n"
          ]
        }
      ]
    },
    {
      "cell_type": "code",
      "source": [
        "print(dog.get('name'))"
      ],
      "metadata": {
        "colab": {
          "base_uri": "https://localhost:8080/"
        },
        "id": "Fc-m3oASbVa5",
        "outputId": "1e547be2-24de-4d5b-b602-c23412bf5a9f"
      },
      "execution_count": 40,
      "outputs": [
        {
          "output_type": "stream",
          "name": "stdout",
          "text": [
            "Siva\n"
          ]
        }
      ]
    },
    {
      "cell_type": "code",
      "source": [
        "print(dog.pop('name'))"
      ],
      "metadata": {
        "colab": {
          "base_uri": "https://localhost:8080/"
        },
        "id": "6DjtChS3bbkG",
        "outputId": "846d49fc-6627-4e43-9ce9-b1bee90892fb"
      },
      "execution_count": 41,
      "outputs": [
        {
          "output_type": "stream",
          "name": "stdout",
          "text": [
            "Siva\n"
          ]
        }
      ]
    },
    {
      "cell_type": "code",
      "source": [
        "print(dog)"
      ],
      "metadata": {
        "colab": {
          "base_uri": "https://localhost:8080/"
        },
        "id": "MgPxS_B_bzlg",
        "outputId": "30a27ef7-9d48-4376-bfe1-5f3ef8f90a95"
      },
      "execution_count": 42,
      "outputs": [
        {
          "output_type": "stream",
          "name": "stdout",
          "text": [
            "{'age': 8}\n"
          ]
        }
      ]
    },
    {
      "cell_type": "code",
      "source": [
        "print(list(dog))"
      ],
      "metadata": {
        "colab": {
          "base_uri": "https://localhost:8080/"
        },
        "id": "EnwDvypdb2pD",
        "outputId": "fb20b626-9fd4-4c43-bd29-56187f6be8d5"
      },
      "execution_count": 43,
      "outputs": [
        {
          "output_type": "stream",
          "name": "stdout",
          "text": [
            "['age']\n"
          ]
        }
      ]
    },
    {
      "cell_type": "code",
      "source": [
        "print(len(dog))"
      ],
      "metadata": {
        "colab": {
          "base_uri": "https://localhost:8080/"
        },
        "id": "NZvtGpQWdQwS",
        "outputId": "135a00c2-6c89-4e88-c21c-395eff90c7dc"
      },
      "execution_count": 44,
      "outputs": [
        {
          "output_type": "stream",
          "name": "stdout",
          "text": [
            "1\n"
          ]
        }
      ]
    },
    {
      "cell_type": "code",
      "source": [
        "dog['favourite food']='Meat'\n",
        "print(dog)"
      ],
      "metadata": {
        "colab": {
          "base_uri": "https://localhost:8080/"
        },
        "id": "mShJSB8XdVnM",
        "outputId": "3608104b-4d64-47e5-8b0d-3b085d73db79"
      },
      "execution_count": 46,
      "outputs": [
        {
          "output_type": "stream",
          "name": "stdout",
          "text": [
            "{'age': 8, 'favourite food': 'Meat'}\n"
          ]
        }
      ]
    },
    {
      "cell_type": "code",
      "source": [
        "del dog['age']"
      ],
      "metadata": {
        "id": "zmrfowj7dkz4"
      },
      "execution_count": 47,
      "outputs": []
    },
    {
      "cell_type": "code",
      "source": [
        "print(dog)"
      ],
      "metadata": {
        "colab": {
          "base_uri": "https://localhost:8080/"
        },
        "id": "RLtlf0VZdyAn",
        "outputId": "1ab3d48b-c07c-491a-cadc-b9fc5a5cbaf5"
      },
      "execution_count": 48,
      "outputs": [
        {
          "output_type": "stream",
          "name": "stdout",
          "text": [
            "{'favourite food': 'Meat'}\n"
          ]
        }
      ]
    },
    {
      "cell_type": "code",
      "source": [
        "#set\n",
        "names={'Roger','Syed','soal','sai'}\n",
        "print(names)"
      ],
      "metadata": {
        "colab": {
          "base_uri": "https://localhost:8080/"
        },
        "id": "NMIdJRmcdzb9",
        "outputId": "61bd2832-9de8-40de-a779-b1b4cf33761a"
      },
      "execution_count": 50,
      "outputs": [
        {
          "output_type": "stream",
          "name": "stdout",
          "text": [
            "{'sai', 'Roger', 'soal', 'Syed'}\n"
          ]
        }
      ]
    },
    {
      "cell_type": "code",
      "source": [
        "set1 = {'Roger','Syd'}\n",
        "set2 = {'Roger','raja'}\n",
        "intersept = set1 & set2\n",
        "print(intersept)"
      ],
      "metadata": {
        "colab": {
          "base_uri": "https://localhost:8080/"
        },
        "id": "Fi2O6N_UeFSb",
        "outputId": "c07024bf-6f5f-4cba-af41-83d9b45457c0"
      },
      "execution_count": 53,
      "outputs": [
        {
          "output_type": "stream",
          "name": "stdout",
          "text": [
            "{'Roger'}\n"
          ]
        }
      ]
    },
    {
      "cell_type": "code",
      "source": [
        "mod = set1 | set2\n",
        "print(mod)"
      ],
      "metadata": {
        "colab": {
          "base_uri": "https://localhost:8080/"
        },
        "id": "1f2xufCAesE7",
        "outputId": "019c660c-6e13-4512-84d3-ea01343e97e2"
      },
      "execution_count": 54,
      "outputs": [
        {
          "output_type": "stream",
          "name": "stdout",
          "text": [
            "{'Roger', 'raja', 'Syd'}\n"
          ]
        }
      ]
    },
    {
      "cell_type": "code",
      "source": [
        "mod1 =set1 - set2\n",
        "print(mod1)"
      ],
      "metadata": {
        "colab": {
          "base_uri": "https://localhost:8080/"
        },
        "id": "X2Gy8cnZfeub",
        "outputId": "d99b42ab-eca6-439a-adf0-3f66d8b67218"
      },
      "execution_count": 57,
      "outputs": [
        {
          "output_type": "stream",
          "name": "stdout",
          "text": [
            "{'Syd'}\n"
          ]
        }
      ]
    },
    {
      "cell_type": "code",
      "source": [
        "print(list(mod1))"
      ],
      "metadata": {
        "colab": {
          "base_uri": "https://localhost:8080/"
        },
        "id": "OW_WP0Zkfnl3",
        "outputId": "ac5a584f-981d-4af1-c0a4-4c2ff792ce44"
      },
      "execution_count": 58,
      "outputs": [
        {
          "output_type": "stream",
          "name": "stdout",
          "text": [
            "['Syd']\n"
          ]
        }
      ]
    },
    {
      "cell_type": "code",
      "source": [
        "se12 = {'sai','siva','kumar','sai',1,1,2,3}\n",
        "print(se12)"
      ],
      "metadata": {
        "colab": {
          "base_uri": "https://localhost:8080/"
        },
        "id": "euB_MLjPf3m4",
        "outputId": "a3ae9099-c33b-482d-c137-4ee761a63aa0"
      },
      "execution_count": 59,
      "outputs": [
        {
          "output_type": "stream",
          "name": "stdout",
          "text": [
            "{1, 2, 3, 'siva', 'sai', 'kumar'}\n"
          ]
        }
      ]
    },
    {
      "cell_type": "code",
      "source": [],
      "metadata": {
        "id": "MBLVVfg_gCQn"
      },
      "execution_count": null,
      "outputs": []
    }
  ]
}